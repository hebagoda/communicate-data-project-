{
 "cells": [
  {
   "cell_type": "markdown",
   "metadata": {},
   "source": [
    "# Data scientist salary dataset\n",
    "## by Heba AbdElmoatty\n",
    "\n",
    "## Preliminary Wrangling\n",
    "\n",
    ">The dataset i used is Data scientist salary Dataset that contains one table , 19802 rows, 9 columns ,, there is a numerical cloumn company_name_encoded and the others are categorical columns"
   ]
  },
  {
   "cell_type": "code",
   "execution_count": 1,
   "metadata": {},
   "outputs": [],
   "source": [
    "# import all packages and set plots to be embedded inline\n",
    "import numpy as np\n",
    "import pandas as pd\n",
    "import matplotlib.pyplot as plt\n",
    "import seaborn as sb\n",
    "\n",
    "%matplotlib inline"
   ]
  },
  {
   "cell_type": "code",
   "execution_count": 2,
   "metadata": {},
   "outputs": [
    {
     "data": {
      "text/html": [
       "<div>\n",
       "<style scoped>\n",
       "    .dataframe tbody tr th:only-of-type {\n",
       "        vertical-align: middle;\n",
       "    }\n",
       "\n",
       "    .dataframe tbody tr th {\n",
       "        vertical-align: top;\n",
       "    }\n",
       "\n",
       "    .dataframe thead th {\n",
       "        text-align: right;\n",
       "    }\n",
       "</style>\n",
       "<table border=\"1\" class=\"dataframe\">\n",
       "  <thead>\n",
       "    <tr style=\"text-align: right;\">\n",
       "      <th></th>\n",
       "      <th>Unnamed: 0</th>\n",
       "      <th>experience</th>\n",
       "      <th>job_description</th>\n",
       "      <th>job_desig</th>\n",
       "      <th>job_type</th>\n",
       "      <th>key_skills</th>\n",
       "      <th>location</th>\n",
       "      <th>salary</th>\n",
       "      <th>company_name_encoded</th>\n",
       "    </tr>\n",
       "  </thead>\n",
       "  <tbody>\n",
       "    <tr>\n",
       "      <th>0</th>\n",
       "      <td>0</td>\n",
       "      <td>5-7 yrs</td>\n",
       "      <td>Exp: Minimum 5 years;Good understanding of IOC...</td>\n",
       "      <td>Senior Exploit and Vulnerability Researcher</td>\n",
       "      <td>NaN</td>\n",
       "      <td>team skills, communication skills, analytical ...</td>\n",
       "      <td>Delhi NCR(Vikas Puri)</td>\n",
       "      <td>6to10</td>\n",
       "      <td>3687</td>\n",
       "    </tr>\n",
       "    <tr>\n",
       "      <th>1</th>\n",
       "      <td>1</td>\n",
       "      <td>10-17 yrs</td>\n",
       "      <td>He should have handled a team of atleast 5-6 d...</td>\n",
       "      <td>Head SCM</td>\n",
       "      <td>NaN</td>\n",
       "      <td>ppc, logistics, inventory management, supply c...</td>\n",
       "      <td>Sonepat</td>\n",
       "      <td>10to15</td>\n",
       "      <td>458</td>\n",
       "    </tr>\n",
       "    <tr>\n",
       "      <th>2</th>\n",
       "      <td>2</td>\n",
       "      <td>5-9 yrs</td>\n",
       "      <td>Must be an effective communicator (written &amp; s...</td>\n",
       "      <td>Deputy Manager - Talent Management &amp; Leadershi...</td>\n",
       "      <td>Analytics</td>\n",
       "      <td>HR Analytics, Employee Engagement, Training, S...</td>\n",
       "      <td>Delhi NCR</td>\n",
       "      <td>15to25</td>\n",
       "      <td>4195</td>\n",
       "    </tr>\n",
       "    <tr>\n",
       "      <th>3</th>\n",
       "      <td>3</td>\n",
       "      <td>7-10 yrs</td>\n",
       "      <td>7  -  10 years of overall experience in data e...</td>\n",
       "      <td>Associate Manager Data Engineering</td>\n",
       "      <td>Analytics</td>\n",
       "      <td>SQL, Javascript, Automation, Python, Ruby, Ana...</td>\n",
       "      <td>Bengaluru</td>\n",
       "      <td>10to15</td>\n",
       "      <td>313</td>\n",
       "    </tr>\n",
       "    <tr>\n",
       "      <th>4</th>\n",
       "      <td>4</td>\n",
       "      <td>1-3 yrs</td>\n",
       "      <td>Chartered Accountancy degree or MBA in Finance...</td>\n",
       "      <td>TS- GSA- Senior Analyst</td>\n",
       "      <td>NaN</td>\n",
       "      <td>accounting, finance, cash flow, financial plan...</td>\n",
       "      <td>Gurgaon</td>\n",
       "      <td>3to6</td>\n",
       "      <td>1305</td>\n",
       "    </tr>\n",
       "  </tbody>\n",
       "</table>\n",
       "</div>"
      ],
      "text/plain": [
       "   Unnamed: 0 experience                                    job_description  \\\n",
       "0           0    5-7 yrs  Exp: Minimum 5 years;Good understanding of IOC...   \n",
       "1           1  10-17 yrs  He should have handled a team of atleast 5-6 d...   \n",
       "2           2    5-9 yrs  Must be an effective communicator (written & s...   \n",
       "3           3   7-10 yrs  7  -  10 years of overall experience in data e...   \n",
       "4           4    1-3 yrs  Chartered Accountancy degree or MBA in Finance...   \n",
       "\n",
       "                                           job_desig   job_type  \\\n",
       "0        Senior Exploit and Vulnerability Researcher        NaN   \n",
       "1                                           Head SCM        NaN   \n",
       "2  Deputy Manager - Talent Management & Leadershi...  Analytics   \n",
       "3                 Associate Manager Data Engineering  Analytics   \n",
       "4                            TS- GSA- Senior Analyst        NaN   \n",
       "\n",
       "                                          key_skills               location  \\\n",
       "0  team skills, communication skills, analytical ...  Delhi NCR(Vikas Puri)   \n",
       "1  ppc, logistics, inventory management, supply c...                Sonepat   \n",
       "2  HR Analytics, Employee Engagement, Training, S...              Delhi NCR   \n",
       "3  SQL, Javascript, Automation, Python, Ruby, Ana...              Bengaluru   \n",
       "4  accounting, finance, cash flow, financial plan...                Gurgaon   \n",
       "\n",
       "   salary  company_name_encoded  \n",
       "0   6to10                  3687  \n",
       "1  10to15                   458  \n",
       "2  15to25                  4195  \n",
       "3  10to15                   313  \n",
       "4    3to6                  1305  "
      ]
     },
     "execution_count": 2,
     "metadata": {},
     "output_type": "execute_result"
    }
   ],
   "source": [
    "df=pd.read_csv('Data scince salary.csv')\n",
    "df.head()"
   ]
  },
  {
   "cell_type": "code",
   "execution_count": 3,
   "metadata": {},
   "outputs": [],
   "source": [
    "## this function show all information of Data scientist salary Dataset\n",
    "def print_info(data):\n",
    "    #print the number of raws \n",
    "    print('number of observations in dataset:',data.shape[0])\n",
    "    # print the number of columns \n",
    "    print('number of columns in dataset:',data.shape[1])\n",
    "    # print the number of null values\n",
    "    print('number of null values in dataset:',data.isnull().sum().sum())\n",
    "    # print the number of all dublicated values\n",
    "    print('number of dublicated values in dataset:',data.duplicated().sum())\n",
    "    print(\"*\"*30)\n",
    "    # print all data types of Dataset\n",
    "    print(data.info())\n",
    "    print(\"*\"*30)\n",
    "     # print all Statistics summary of Dataset\n",
    "    print(data.describe())"
   ]
  },
  {
   "cell_type": "code",
   "execution_count": 4,
   "metadata": {},
   "outputs": [
    {
     "name": "stdout",
     "output_type": "stream",
     "text": [
      "number of observations in dataset: 19802\n",
      "number of columns in dataset: 9\n",
      "number of null values in dataset: 19424\n",
      "number of dublicated values in dataset: 0\n",
      "******************************\n",
      "<class 'pandas.core.frame.DataFrame'>\n",
      "RangeIndex: 19802 entries, 0 to 19801\n",
      "Data columns (total 9 columns):\n",
      " #   Column                Non-Null Count  Dtype \n",
      "---  ------                --------------  ----- \n",
      " 0   Unnamed: 0            19802 non-null  int64 \n",
      " 1   experience            19802 non-null  object\n",
      " 2   job_description       15384 non-null  object\n",
      " 3   job_desig             19802 non-null  object\n",
      " 4   job_type              4797 non-null   object\n",
      " 5   key_skills            19801 non-null  object\n",
      " 6   location              19802 non-null  object\n",
      " 7   salary                19802 non-null  object\n",
      " 8   company_name_encoded  19802 non-null  int64 \n",
      "dtypes: int64(2), object(7)\n",
      "memory usage: 1.4+ MB\n",
      "None\n",
      "******************************\n",
      "         Unnamed: 0  company_name_encoded\n",
      "count  19802.000000          19802.000000\n",
      "mean    9900.500000           2379.723866\n",
      "std     5716.489351           1475.342341\n",
      "min        0.000000              0.000000\n",
      "25%     4950.250000           1067.000000\n",
      "50%     9900.500000           2225.000000\n",
      "75%    14850.750000           3621.000000\n",
      "max    19801.000000           5034.000000\n"
     ]
    }
   ],
   "source": [
    "print_info(df)"
   ]
  },
  {
   "cell_type": "code",
   "execution_count": 5,
   "metadata": {},
   "outputs": [
    {
     "data": {
      "text/plain": [
       "Unnamed: 0                  0\n",
       "experience                  0\n",
       "job_description          4418\n",
       "job_desig                   0\n",
       "job_type                15005\n",
       "key_skills                  1\n",
       "location                    0\n",
       "salary                      0\n",
       "company_name_encoded        0\n",
       "dtype: int64"
      ]
     },
     "execution_count": 5,
     "metadata": {},
     "output_type": "execute_result"
    }
   ],
   "source": [
    "df.isnull().sum()"
   ]
  },
  {
   "cell_type": "code",
   "execution_count": 6,
   "metadata": {},
   "outputs": [
    {
     "name": "stderr",
     "output_type": "stream",
     "text": [
      "C:\\Users\\DELL\\Anaconda3\\lib\\site-packages\\ipykernel_launcher.py:5: SettingWithCopyWarning: \n",
      "A value is trying to be set on a copy of a slice from a DataFrame\n",
      "\n",
      "See the caveats in the documentation: https://pandas.pydata.org/pandas-docs/stable/user_guide/indexing.html#returning-a-view-versus-a-copy\n",
      "  \"\"\"\n",
      "C:\\Users\\DELL\\Anaconda3\\lib\\site-packages\\ipykernel_launcher.py:6: SettingWithCopyWarning: \n",
      "A value is trying to be set on a copy of a slice from a DataFrame\n",
      "\n",
      "See the caveats in the documentation: https://pandas.pydata.org/pandas-docs/stable/user_guide/indexing.html#returning-a-view-versus-a-copy\n",
      "  \n"
     ]
    }
   ],
   "source": [
    "df['min experience']=1\n",
    "df['max experience']=1\n",
    "for i in range(df.shape[0]):\n",
    "    s=df['experience'][i].split('-')\n",
    "    df['min experience'][i]=int(s[0])\n",
    "    df['max experience'][i]=int(s[1].split(' ')[0])"
   ]
  },
  {
   "cell_type": "code",
   "execution_count": 7,
   "metadata": {},
   "outputs": [
    {
     "name": "stderr",
     "output_type": "stream",
     "text": [
      "C:\\Users\\DELL\\Anaconda3\\lib\\site-packages\\ipykernel_launcher.py:5: SettingWithCopyWarning: \n",
      "A value is trying to be set on a copy of a slice from a DataFrame\n",
      "\n",
      "See the caveats in the documentation: https://pandas.pydata.org/pandas-docs/stable/user_guide/indexing.html#returning-a-view-versus-a-copy\n",
      "  \"\"\"\n",
      "C:\\Users\\DELL\\Anaconda3\\lib\\site-packages\\ipykernel_launcher.py:6: SettingWithCopyWarning: \n",
      "A value is trying to be set on a copy of a slice from a DataFrame\n",
      "\n",
      "See the caveats in the documentation: https://pandas.pydata.org/pandas-docs/stable/user_guide/indexing.html#returning-a-view-versus-a-copy\n",
      "  \n"
     ]
    }
   ],
   "source": [
    "df['min salary']=1\n",
    "df['max salary']=1\n",
    "for i in range(df.shape[0]):\n",
    "    s=df['salary'][i].split('to')\n",
    "    df['min salary'][i]=int(s[0])\n",
    "    df['max salary'][i]=int(s[1])"
   ]
  },
  {
   "cell_type": "code",
   "execution_count": 8,
   "metadata": {},
   "outputs": [],
   "source": [
    "df.drop('job_description',axis=1,inplace=True)\n",
    "df.drop('job_type',axis=1,inplace=True)"
   ]
  },
  {
   "cell_type": "code",
   "execution_count": 9,
   "metadata": {},
   "outputs": [
    {
     "name": "stdout",
     "output_type": "stream",
     "text": [
      "number of observations in dataset: 19802\n",
      "number of columns in dataset: 11\n",
      "number of null values in dataset: 1\n",
      "number of dublicated values in dataset: 0\n",
      "******************************\n",
      "<class 'pandas.core.frame.DataFrame'>\n",
      "RangeIndex: 19802 entries, 0 to 19801\n",
      "Data columns (total 11 columns):\n",
      " #   Column                Non-Null Count  Dtype \n",
      "---  ------                --------------  ----- \n",
      " 0   Unnamed: 0            19802 non-null  int64 \n",
      " 1   experience            19802 non-null  object\n",
      " 2   job_desig             19802 non-null  object\n",
      " 3   key_skills            19801 non-null  object\n",
      " 4   location              19802 non-null  object\n",
      " 5   salary                19802 non-null  object\n",
      " 6   company_name_encoded  19802 non-null  int64 \n",
      " 7   min experience        19802 non-null  int64 \n",
      " 8   max experience        19802 non-null  int64 \n",
      " 9   min salary            19802 non-null  int64 \n",
      " 10  max salary            19802 non-null  int64 \n",
      "dtypes: int64(6), object(5)\n",
      "memory usage: 1.7+ MB\n",
      "None\n",
      "******************************\n",
      "         Unnamed: 0  company_name_encoded  min experience  max experience  \\\n",
      "count  19802.000000          19802.000000    19802.000000    19802.000000   \n",
      "mean    9900.500000           2379.723866        4.337693        8.086001   \n",
      "std     5716.489351           1475.342341        3.351553        4.243465   \n",
      "min        0.000000              0.000000        0.000000        0.000000   \n",
      "25%     4950.250000           1067.000000        2.000000        5.000000   \n",
      "50%     9900.500000           2225.000000        4.000000        7.500000   \n",
      "75%    14850.750000           3621.000000        6.000000       10.000000   \n",
      "max    19801.000000           5034.000000       23.000000       30.000000   \n",
      "\n",
      "         min salary    max salary  \n",
      "count  19802.000000  19802.000000  \n",
      "mean       8.883951     15.724876  \n",
      "std        6.934729     12.544188  \n",
      "min        0.000000      3.000000  \n",
      "25%        3.000000      6.000000  \n",
      "50%       10.000000     15.000000  \n",
      "75%       15.000000     25.000000  \n",
      "max       25.000000     50.000000  \n"
     ]
    }
   ],
   "source": [
    "print_info(df)"
   ]
  },
  {
   "cell_type": "code",
   "execution_count": 10,
   "metadata": {},
   "outputs": [
    {
     "data": {
      "text/html": [
       "<div>\n",
       "<style scoped>\n",
       "    .dataframe tbody tr th:only-of-type {\n",
       "        vertical-align: middle;\n",
       "    }\n",
       "\n",
       "    .dataframe tbody tr th {\n",
       "        vertical-align: top;\n",
       "    }\n",
       "\n",
       "    .dataframe thead th {\n",
       "        text-align: right;\n",
       "    }\n",
       "</style>\n",
       "<table border=\"1\" class=\"dataframe\">\n",
       "  <thead>\n",
       "    <tr style=\"text-align: right;\">\n",
       "      <th></th>\n",
       "      <th>Unnamed: 0</th>\n",
       "      <th>experience</th>\n",
       "      <th>job_desig</th>\n",
       "      <th>key_skills</th>\n",
       "      <th>location</th>\n",
       "      <th>salary</th>\n",
       "      <th>company_name_encoded</th>\n",
       "      <th>min experience</th>\n",
       "      <th>max experience</th>\n",
       "      <th>min salary</th>\n",
       "      <th>max salary</th>\n",
       "    </tr>\n",
       "  </thead>\n",
       "  <tbody>\n",
       "    <tr>\n",
       "      <th>0</th>\n",
       "      <td>0</td>\n",
       "      <td>5-7 yrs</td>\n",
       "      <td>Senior Exploit and Vulnerability Researcher</td>\n",
       "      <td>team skills, communication skills, analytical ...</td>\n",
       "      <td>Delhi NCR(Vikas Puri)</td>\n",
       "      <td>6to10</td>\n",
       "      <td>3687</td>\n",
       "      <td>5</td>\n",
       "      <td>7</td>\n",
       "      <td>6</td>\n",
       "      <td>10</td>\n",
       "    </tr>\n",
       "    <tr>\n",
       "      <th>1</th>\n",
       "      <td>1</td>\n",
       "      <td>10-17 yrs</td>\n",
       "      <td>Head SCM</td>\n",
       "      <td>ppc, logistics, inventory management, supply c...</td>\n",
       "      <td>Sonepat</td>\n",
       "      <td>10to15</td>\n",
       "      <td>458</td>\n",
       "      <td>10</td>\n",
       "      <td>17</td>\n",
       "      <td>10</td>\n",
       "      <td>15</td>\n",
       "    </tr>\n",
       "    <tr>\n",
       "      <th>2</th>\n",
       "      <td>2</td>\n",
       "      <td>5-9 yrs</td>\n",
       "      <td>Deputy Manager - Talent Management &amp; Leadershi...</td>\n",
       "      <td>HR Analytics, Employee Engagement, Training, S...</td>\n",
       "      <td>Delhi NCR</td>\n",
       "      <td>15to25</td>\n",
       "      <td>4195</td>\n",
       "      <td>5</td>\n",
       "      <td>9</td>\n",
       "      <td>15</td>\n",
       "      <td>25</td>\n",
       "    </tr>\n",
       "    <tr>\n",
       "      <th>3</th>\n",
       "      <td>3</td>\n",
       "      <td>7-10 yrs</td>\n",
       "      <td>Associate Manager Data Engineering</td>\n",
       "      <td>SQL, Javascript, Automation, Python, Ruby, Ana...</td>\n",
       "      <td>Bengaluru</td>\n",
       "      <td>10to15</td>\n",
       "      <td>313</td>\n",
       "      <td>7</td>\n",
       "      <td>10</td>\n",
       "      <td>10</td>\n",
       "      <td>15</td>\n",
       "    </tr>\n",
       "    <tr>\n",
       "      <th>4</th>\n",
       "      <td>4</td>\n",
       "      <td>1-3 yrs</td>\n",
       "      <td>TS- GSA- Senior Analyst</td>\n",
       "      <td>accounting, finance, cash flow, financial plan...</td>\n",
       "      <td>Gurgaon</td>\n",
       "      <td>3to6</td>\n",
       "      <td>1305</td>\n",
       "      <td>1</td>\n",
       "      <td>3</td>\n",
       "      <td>3</td>\n",
       "      <td>6</td>\n",
       "    </tr>\n",
       "  </tbody>\n",
       "</table>\n",
       "</div>"
      ],
      "text/plain": [
       "   Unnamed: 0 experience                                          job_desig  \\\n",
       "0           0    5-7 yrs        Senior Exploit and Vulnerability Researcher   \n",
       "1           1  10-17 yrs                                           Head SCM   \n",
       "2           2    5-9 yrs  Deputy Manager - Talent Management & Leadershi...   \n",
       "3           3   7-10 yrs                 Associate Manager Data Engineering   \n",
       "4           4    1-3 yrs                            TS- GSA- Senior Analyst   \n",
       "\n",
       "                                          key_skills               location  \\\n",
       "0  team skills, communication skills, analytical ...  Delhi NCR(Vikas Puri)   \n",
       "1  ppc, logistics, inventory management, supply c...                Sonepat   \n",
       "2  HR Analytics, Employee Engagement, Training, S...              Delhi NCR   \n",
       "3  SQL, Javascript, Automation, Python, Ruby, Ana...              Bengaluru   \n",
       "4  accounting, finance, cash flow, financial plan...                Gurgaon   \n",
       "\n",
       "   salary  company_name_encoded  min experience  max experience  min salary  \\\n",
       "0   6to10                  3687               5               7           6   \n",
       "1  10to15                   458              10              17          10   \n",
       "2  15to25                  4195               5               9          15   \n",
       "3  10to15                   313               7              10          10   \n",
       "4    3to6                  1305               1               3           3   \n",
       "\n",
       "   max salary  \n",
       "0          10  \n",
       "1          15  \n",
       "2          25  \n",
       "3          15  \n",
       "4           6  "
      ]
     },
     "execution_count": 10,
     "metadata": {},
     "output_type": "execute_result"
    }
   ],
   "source": [
    "df.head()"
   ]
  },
  {
   "cell_type": "code",
   "execution_count": 11,
   "metadata": {},
   "outputs": [],
   "source": [
    "min_max_exp=df.loc[:,'min experience':'max experience']\n",
    "avg_exp=min_max_exp.mean(axis=1)\n",
    "min_max_salary=df.loc[:,'min salary':'max salary']\n",
    "avg_salary=min_max_salary.mean(axis=1)"
   ]
  },
  {
   "cell_type": "markdown",
   "metadata": {},
   "source": [
    "### What is the structure of your dataset?\n",
    "\n",
    "> Data scientist salary dataset has 19802 rows, 9 columns ,, there is a numerical cloumn company_name_encoded and the others are categorical columns \n",
    "\n",
    "### What is/are the main feature(s) of interest in your dataset?\n",
    "\n",
    "> the main feature in data scientist dataset is experience column.\n",
    "\n",
    "### What features in the dataset do you think will help support your investigation into your feature(s) of interest?\n",
    "\n",
    "> experience and salary columns."
   ]
  },
  {
   "cell_type": "markdown",
   "metadata": {},
   "source": [
    "## Univariate Exploration\n",
    "\n",
    "> **the most popular 5 interval of experience**"
   ]
  },
  {
   "cell_type": "code",
   "execution_count": 12,
   "metadata": {},
   "outputs": [
    {
     "data": {
      "image/png": "[encoded data removed]",
      "text/plain": [
       "<Figure size 432x288 with 1 Axes>"
      ]
     },
     "metadata": {
      "needs_background": "light"
     },
     "output_type": "display_data"
    }
   ],
   "source": [
    "#the most popular 5 interval of experience\n",
    "experience=df['experience'].value_counts().reset_index().iloc[0:5,:]\n",
    "experience=experience.sort_values('index')\n",
    "fig = plt.figure()\n",
    "ax = fig.add_axes([0,0,1,1])\n",
    "ax.bar(experience['index'],experience['experience'])\n",
    "plt.xlabel('Years_Intervals')\n",
    "plt.ylabel('Number_of_each_interval')\n",
    "plt.title('Most popular 5 interval of experience')\n",
    "plt.show()"
   ]
  },
  {
   "cell_type": "markdown",
   "metadata": {},
   "source": [
    "### This plot shows the most popular 5 intervals of experience intervals column.\n",
    ">1. X-axis is intervals of experience years.\n",
    ">2. Y-axis is the number of each interval.\n",
    ">2. Conclusion is that largest number of intervals is 5-10 yrs "
   ]
  },
  {
   "cell_type": "markdown",
   "metadata": {},
   "source": [
    "### The next investigate will show  if there is relationship between number of experience years and salaries."
   ]
  },
  {
   "cell_type": "markdown",
   "metadata": {},
   "source": [
    "### Discuss the distribution(s) of your variable(s) of interest. Were there any unusual points? Did you need to perform any transformations?\n",
    "\n",
    "> A distribution is called non-normal distribution,as in the above plot, collected data might not be normally distributed if it represents simply a subset of the total output a process produced. This can happen if data is collected and analyzed after sorting. there are no any unusal points. i created a new data set called experience it is has intervals of experience years column and the counts of each intreval coulumns hen sorted them.\n",
    "\n",
    "### Of the features you investigated, were there any unusual distributions? Did you perform any operations on the data to tidy, adjust, or change the form of the data? If so, why did you do this?\n",
    "\n",
    "> >the distribution of intervals counts of experienc years is non-normal.\n",
    "i did operations on the data becaues there is hindrance such null values,drop job_describtion and job_type columns,spliting the experience column to min exp,max exp then made spliting of the salary column to min salary,max salary to use them in investigate the dataset."
   ]
  },
  {
   "cell_type": "markdown",
   "metadata": {},
   "source": [
    "## Bivariate Exploration\n",
    "\n",
    "> Is there relationship between the experience of a data scientist and it's salary?"
   ]
  },
  {
   "cell_type": "code",
   "execution_count": 13,
   "metadata": {},
   "outputs": [
    {
     "data": {
      "image/png": "[encoded data removed]",
      "text/plain": [
       "<Figure size 432x288 with 1 Axes>"
      ]
     },
     "metadata": {
      "needs_background": "light"
     },
     "output_type": "display_data"
    }
   ],
   "source": [
    "plt.scatter(x=avg_exp,y=avg_salary)\n",
    "plt.xlabel('Experience_Years')\n",
    "plt.ylabel('Salary')\n",
    "plt.title(\"relationship between the experience of a data scientist and it's salary\")\n",
    "plt.show()"
   ]
  },
  {
   "cell_type": "markdown",
   "metadata": {},
   "source": [
    "### This plot shows the relathionship between the experience years of a data scientist and it's salary\n",
    ">1. X-axis is mean of interval experience years column.\n",
    ">2. Y-axis is the mean of interval salary column.\n",
    ">3. Conclusion is there is no relation  between the experience years of a data scientist and it's salary.\n",
    "### the next plot shows the relationships between some variables and each others."
   ]
  },
  {
   "cell_type": "markdown",
   "metadata": {},
   "source": [
    "### Talk about some of the relationships you observed in this part of the investigation. How did the feature(s) of interest vary with other features in the dataset?\n",
    "\n",
    "> The above plot shows that there is no a relationship between the experience years of a data scientist and it's salary.\n",
    "\n",
    "### Did you observe any interesting relationships between the other features (not the main feature(s) of interest)?\n",
    "\n",
    "> no ,there is no relationships between the other features that i investigate it, i will discuss it in next section."
   ]
  },
  {
   "cell_type": "markdown",
   "metadata": {},
   "source": [
    "## Multivariate Exploration\n",
    "\n",
    "> view of salary and experience variables and their relationships with each other."
   ]
  },
  {
   "cell_type": "code",
   "execution_count": 14,
   "metadata": {},
   "outputs": [
    {
     "data": {
      "image/png": "[encoded data removed]",
      "text/plain": [
       "<Figure size 653.76x653.76 with 20 Axes>"
      ]
     },
     "metadata": {
      "needs_background": "light"
     },
     "output_type": "display_data"
    }
   ],
   "source": [
    "sb.pairplot(df.loc[:,'min experience':'max salary'],height=2.27)\n",
    "plt.show()"
   ]
  },
  {
   "cell_type": "markdown",
   "metadata": {},
   "source": [
    "## **the above plot is view of salary and experience variables and their relationships with each other**.\n",
    "### conclusion: here are no relathionships betwwen features and each other."
   ]
  },
  {
   "cell_type": "markdown",
   "metadata": {},
   "source": [
    "### Talk about some of the relationships you observed in this part of the investigation. Were there features that strengthened each other in terms of looking at your feature(s) of interest?\n",
    "\n",
    "> there are no relationships betwwen features and each other.\n",
    "\n",
    "### Were there any interesting or surprising interactions between features?\n",
    "\n",
    "> no"
   ]
  },
  {
   "cell_type": "markdown",
   "metadata": {},
   "source": [
    "# Summary\n",
    "The dataset i used is Data scientist salary Dataset that contains one table , 19802 rows, 9 columns ,, there is a numerical cloumn company_name_encoded and the others are categorical columns.\n",
    "befor EDA Process i needed to clean the data based on the Questions.\n",
    "#### there is hindrance such:\n",
    "###### 1-null columns ,dropped them from data like job_describtion and job_type columns.\n",
    "###### 2-i did split the experience column to min exp,max exp\n",
    "###### 3-split the salary column to min salary,max salary to use them in investigate the dataset.\n",
    "## - EDA section\n",
    "1. i have three plots.\n",
    "    1. first plot i discovered that the most popular 5 interval of experience.\n",
    "    2. second plot i discovered that there is no correlation between interval experience years of a data scientist and it's salary.\n",
    "    3. third plot i discovered the relationships between all variables and each other , and there are no relationships between variables and each others. "
   ]
  }
 ],
 "metadata": {
  "kernelspec": {
   "display_name": "Python 3",
   "language": "python",
   "name": "python3"
  },
  "language_info": {
   "codemirror_mode": {
    "name": "ipython",
    "version": 3
   },
   "file_extension": ".py",
   "mimetype": "text/x-python",
   "name": "python",
   "nbconvert_exporter": "python",
   "pygments_lexer": "ipython3",
   "version": "3.6.11"
  }
 },
 "nbformat": 4,
 "nbformat_minor": 2
}
